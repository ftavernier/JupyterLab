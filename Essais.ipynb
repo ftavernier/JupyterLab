{
 "cells": [
  {
   "cell_type": "markdown",
   "metadata": {},
   "source": [
    "# Couplage inductif resonant serie / serie"
   ]
  },
  {
   "cell_type": "markdown",
   "metadata": {},
   "source": [
    "Avant de commencer on import les bibliothèques nécessaire. Nous importons aussi le fichier `coupleur.py` , qui contient les équations à résoudre et dessine leurs solutions.\n"
   ]
  },
  {
   "cell_type": "code",
   "execution_count": 4,
   "metadata": {},
   "outputs": [],
   "source": [
    "%matplotlib ipympl\n",
    "from ipywidgets import interactive, fixed"
   ]
  },
  {
   "cell_type": "markdown",
   "metadata": {},
   "source": [
    "Le schéma équivalent du coupleur inductif utilisé est représenté ci-dessous."
   ]
  },
  {
   "cell_type": "markdown",
   "metadata": {},
   "source": [
    "![title](ShemaCoupleur.png)"
   ]
  },
  {
   "cell_type": "markdown",
   "metadata": {},
   "source": [
    "Les valeurs des capacité sont determinés en utilisant l'équation :\n",
    "$$\n",
    "\\begin{equation}\n",
    "C = \\frac{1}{(2\\pi f_0)^2 L}\n",
    "\\end{equation}\n",
    "$$\n",
    "\n",
    "où $f_0$ est la fréquence de résonance."
   ]
  },
  {
   "cell_type": "markdown",
   "metadata": {},
   "source": [
    "Les unités :\n",
    "\n",
    "    L en micro Henry\n",
    "    R en Ohm\n",
    "    f en Hertz\n",
    "    \n",
    "L’intervalle de l'abscisse des courbes est définie par la fréquence $f_1$ et $f_2$"
   ]
  },
  {
   "cell_type": "code",
   "execution_count": 5,
   "metadata": {},
   "outputs": [
    {
     "data": {
      "application/vnd.jupyter.widget-view+json": {
       "model_id": "82fe69811417438aa5677de55c36d4e6",
       "version_major": 2,
       "version_minor": 0
      },
      "text/plain": [
       "interactive(children=(FloatSlider(value=0.1, description='R1', max=0.26, min=0.01, step=0.01), IntSlider(value…"
      ]
     },
     "metadata": {},
     "output_type": "display_data"
    }
   ],
   "source": [
    "from Essais import solve_linSystem\n",
    "w=interactive(solve_linSystem,R1=(0.01,0.26,0.01), uL1=(50,500,10), R2=(0.01,0.26,0.01), uL2=(50,500,10), k = (0.1,1), Rs = (0.1,5,0.1), Us = (100.0,400.0,10), f0 = (20e3,85e3,5e3), f1 = (10e3,100e3,10e3), f2 = (10e3, 100e3, 10e3))\n",
    "w"
   ]
  },
  {
   "cell_type": "code",
   "execution_count": null,
   "metadata": {},
   "outputs": [],
   "source": []
  }
 ],
 "metadata": {
  "kernelspec": {
   "display_name": "Python 3",
   "language": "python",
   "name": "python3"
  },
  "language_info": {
   "codemirror_mode": {
    "name": "ipython",
    "version": 3
   },
   "file_extension": ".py",
   "mimetype": "text/x-python",
   "name": "python",
   "nbconvert_exporter": "python",
   "pygments_lexer": "ipython3",
   "version": "3.7.3"
  }
 },
 "nbformat": 4,
 "nbformat_minor": 4
}
